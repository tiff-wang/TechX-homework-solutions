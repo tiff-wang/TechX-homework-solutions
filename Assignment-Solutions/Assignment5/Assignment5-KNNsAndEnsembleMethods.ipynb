{
 "cells": [
  {
   "cell_type": "markdown",
   "metadata": {},
   "source": [
    "# Assignment 5: K-NNs and Ensemble Methods"
   ]
  },
  {
   "cell_type": "markdown",
   "metadata": {},
   "source": [
    "For this assignment, answer directly on this Jupyter notebook. Once you're done, please submit the assignment as \"Name_Surname_Assignment5.ipynb\"\n",
    "\n",
    "*Don't forget that commenting your code is very important!*"
   ]
  },
  {
   "cell_type": "markdown",
   "metadata": {},
   "source": [
    "\n",
    "\n",
    "\n",
    "###  K-NN Implementation\n",
    "\n",
    "- Implement the K-NN algorithm by hand (ie. Don't use the sklearn implementation).\n",
    "- Evaluate and plot model performance for different values of k.\n",
    "\n",
    "For this question, we will be using the classic Iris dataset, available in sklearn."
   ]
  },
  {
   "cell_type": "markdown",
   "metadata": {},
   "source": [
    "### 1. Import packages\n",
    "\n",
    "###### Importing packages and knowing what packages you need for a project is crucial. We will not be reminding you which packages you need for each question and for the assignment in general. Please import the packages at your own discretion. Although it is common practice to import all packages at once at the beginning, don't hesitate to revisit the next cell, and import more packages as you may need. "
   ]
  },
  {
   "cell_type": "code",
   "execution_count": 1,
   "metadata": {},
   "outputs": [],
   "source": [
    "# Implement kNN by hand. It might be useful to store all distances in one array/list\n",
    "\n",
    "### YOUR CODE HERE\n",
    "import pandas as pd\n",
    "import numpy as np\n",
    "import matplotlib.pyplot as plt\n",
    "import math\n",
    "import operator\n",
    "\n",
    "from sklearn.datasets import load_iris\n",
    "from sklearn.utils import shuffle"
   ]
  },
  {
   "cell_type": "markdown",
   "metadata": {},
   "source": [
    "### 2. Load the Iris dataset"
   ]
  },
  {
   "cell_type": "code",
   "execution_count": 2,
   "metadata": {},
   "outputs": [
    {
     "data": {
      "text/html": [
       "<div>\n",
       "<style scoped>\n",
       "    .dataframe tbody tr th:only-of-type {\n",
       "        vertical-align: middle;\n",
       "    }\n",
       "\n",
       "    .dataframe tbody tr th {\n",
       "        vertical-align: top;\n",
       "    }\n",
       "\n",
       "    .dataframe thead th {\n",
       "        text-align: right;\n",
       "    }\n",
       "</style>\n",
       "<table border=\"1\" class=\"dataframe\">\n",
       "  <thead>\n",
       "    <tr style=\"text-align: right;\">\n",
       "      <th></th>\n",
       "      <th>sepal length (cm)</th>\n",
       "      <th>sepal width (cm)</th>\n",
       "      <th>petal length (cm)</th>\n",
       "      <th>petal width (cm)</th>\n",
       "      <th>target</th>\n",
       "    </tr>\n",
       "  </thead>\n",
       "  <tbody>\n",
       "    <tr>\n",
       "      <th>0</th>\n",
       "      <td>5.1</td>\n",
       "      <td>3.5</td>\n",
       "      <td>1.4</td>\n",
       "      <td>0.2</td>\n",
       "      <td>0.0</td>\n",
       "    </tr>\n",
       "    <tr>\n",
       "      <th>1</th>\n",
       "      <td>4.9</td>\n",
       "      <td>3.0</td>\n",
       "      <td>1.4</td>\n",
       "      <td>0.2</td>\n",
       "      <td>0.0</td>\n",
       "    </tr>\n",
       "    <tr>\n",
       "      <th>2</th>\n",
       "      <td>4.7</td>\n",
       "      <td>3.2</td>\n",
       "      <td>1.3</td>\n",
       "      <td>0.2</td>\n",
       "      <td>0.0</td>\n",
       "    </tr>\n",
       "    <tr>\n",
       "      <th>3</th>\n",
       "      <td>4.6</td>\n",
       "      <td>3.1</td>\n",
       "      <td>1.5</td>\n",
       "      <td>0.2</td>\n",
       "      <td>0.0</td>\n",
       "    </tr>\n",
       "    <tr>\n",
       "      <th>4</th>\n",
       "      <td>5.0</td>\n",
       "      <td>3.6</td>\n",
       "      <td>1.4</td>\n",
       "      <td>0.2</td>\n",
       "      <td>0.0</td>\n",
       "    </tr>\n",
       "  </tbody>\n",
       "</table>\n",
       "</div>"
      ],
      "text/plain": [
       "   sepal length (cm)  sepal width (cm)  petal length (cm)  petal width (cm)  \\\n",
       "0                5.1               3.5                1.4               0.2   \n",
       "1                4.9               3.0                1.4               0.2   \n",
       "2                4.7               3.2                1.3               0.2   \n",
       "3                4.6               3.1                1.5               0.2   \n",
       "4                5.0               3.6                1.4               0.2   \n",
       "\n",
       "   target  \n",
       "0     0.0  \n",
       "1     0.0  \n",
       "2     0.0  \n",
       "3     0.0  \n",
       "4     0.0  "
      ]
     },
     "execution_count": 2,
     "metadata": {},
     "output_type": "execute_result"
    }
   ],
   "source": [
    "# loading dataset\n",
    "iris = load_iris()\n",
    "iris_df = pd.DataFrame(data= np.c_[iris['data'], iris['target']],\n",
    "                     columns= iris['feature_names'] + ['target'])\n",
    "\n",
    "# Preview dataset\n",
    "iris_df.head()"
   ]
  },
  {
   "cell_type": "markdown",
   "metadata": {},
   "source": [
    "###### In order to evaluate the performance of our kNN implementation, we first split the dataset into training and test sets. A 70/30 split or something similar should suffice. Remember class balance within both train/test sets is important."
   ]
  },
  {
   "cell_type": "code",
   "execution_count": 3,
   "metadata": {},
   "outputs": [],
   "source": [
    "### YOUR CODE HERE - Shuffle dataset, then split for balanced classes. \n",
    "\n",
    "iris_shuffled = shuffle(iris_df)\n",
    "iris_shuffled.head(10)\n",
    "iris_shuffled.reset_index(inplace=True, drop=True)\n",
    "\n",
    "trainSplit = 0.7\n",
    "pivot = int(trainSplit * iris_shuffled.shape[0])\n",
    "\n",
    "iris_train = iris_shuffled[:pivot].copy() # Separating the features from target variables is not essential here\n",
    "iris_test = iris_shuffled[pivot:].copy()\n",
    "\n",
    "# iris_train = iris_train.values.tolist()\n",
    "# iris_test = iris_test.values.tolist()\n",
    "\n",
    "iris_train = np.asarray(iris_train)\n",
    "iris_test = np.asarray(iris_test)"
   ]
  },
  {
   "cell_type": "markdown",
   "metadata": {},
   "source": [
    "### 3. Defining a distance metric\n",
    "\n",
    "###### To define similarity between two given points, we must define a distance metric. Write a method that takes  two points as input and returns the distance between the points. Look at the format of each point in the sample case below."
   ]
  },
  {
   "cell_type": "code",
   "execution_count": 4,
   "metadata": {},
   "outputs": [],
   "source": [
    "### YOUR CODE HERE - Write method that returns Euclidean distance between two points\n",
    "\n",
    "def getDistance(p1, p2):\n",
    "    \"\"\" Calculates the Euclidean distance between two points. Returns dist float\"\"\"\n",
    "    length = len(p1) - 1\n",
    "    dist = 0\n",
    "    \n",
    "    for i in range(length):\n",
    "        dist += pow((p1[i] - p2[i]), 2)\n",
    "        \n",
    "    return math.sqrt(dist)"
   ]
  },
  {
   "cell_type": "markdown",
   "metadata": {},
   "source": [
    "######  Let's test our newly written method on the following samples."
   ]
  },
  {
   "cell_type": "code",
   "execution_count": 5,
   "metadata": {},
   "outputs": [
    {
     "name": "stdout",
     "output_type": "stream",
     "text": [
      "3.4641016151377544\n"
     ]
    }
   ],
   "source": [
    "data1 = [2, 2, 2, 'a']\n",
    "data2 = [4, 4, 4, 'b']\n",
    "distance = getDistance(data1, data2)\n",
    "\n",
    "print(distance)"
   ]
  },
  {
   "cell_type": "markdown",
   "metadata": {},
   "source": [
    "### 4. Finding k nearest neighbours\n",
    "\n",
    "###### Now that we've defined a distance metric, we can use it collect the k most similar instances for a new test instance. Write a method calculating the distance between a test point and all training instances, selecting a subset with the smallest distance values. It might be useful to store all the distances in a list/array, since Python has a built-in sorting function."
   ]
  },
  {
   "cell_type": "code",
   "execution_count": 6,
   "metadata": {},
   "outputs": [],
   "source": [
    "### YOUR CODE HERE - Write method calculating the distance for all instances, selecting a subset with the smallest distance values.\n",
    "\n",
    "def getNeighbours(trainingSet, sample, k):\n",
    "    \"\"\" Calculates k nearest neighbours using a distance metric. Returns neighbours list\"\"\"\n",
    "    distances = []\n",
    "    length = len(sample) - 1\n",
    "    for x in range(len(trainingSet)):\n",
    "        dist = getDistance(sample, trainingSet[x])\n",
    "        distances.append((trainingSet[x], dist))  # Store distances in list \n",
    "    distances.sort(key=operator.itemgetter(1))  # Built in sorting functions in Python\n",
    "    neighbors = []\n",
    "    for x in range(k):\n",
    "        neighbors.append(distances[x][0])\n",
    "    return neighbors\n"
   ]
  },
  {
   "cell_type": "markdown",
   "metadata": {},
   "source": [
    "######  Let's test our newly written method on the following samples."
   ]
  },
  {
   "cell_type": "code",
   "execution_count": 7,
   "metadata": {},
   "outputs": [
    {
     "name": "stdout",
     "output_type": "stream",
     "text": [
      "[[4, 4, 4, 'b']]\n"
     ]
    }
   ],
   "source": [
    "trainSet = [[2, 2, 2, 'a'], [4, 4, 4, 'b']]\n",
    "testInstance = [5, 5, 5]\n",
    "\n",
    "neighbors = getNeighbours(trainSet, testInstance, 1)\n",
    "print(neighbors)"
   ]
  },
  {
   "cell_type": "markdown",
   "metadata": {},
   "source": [
    "###### Now to build a prediction model, write a method that returns a prediction given k nearest neighbours from the previous method. (Hint: one way you can do this is to build a dictionary, and sort the key-value pairs to determine which class occurs the most often!)"
   ]
  },
  {
   "cell_type": "code",
   "execution_count": 8,
   "metadata": {},
   "outputs": [],
   "source": [
    "### YOUR CODE HERE - Write method that takes in k nearest neighbours as input, and votes based on the majority class.\n",
    "\n",
    "def predict(neighbours):\n",
    "    \"\"\" Returns predicted class response based off majority vote from k neighbours set\"\"\"\n",
    "    \n",
    "    votes = {}\n",
    "    for i in range(len(neighbours)):\n",
    "        current = neighbours[i][-1]\n",
    "        \n",
    "        if current in votes:\n",
    "            votes[current] += 1\n",
    "        else: \n",
    "            votes[current] = 1\n",
    "    \n",
    "    # Note that sorted is a function that operates on iterators, so we convert the dictionary votes to a list via the items function\n",
    "    sortedVotes = sorted(votes.items(), key=operator.itemgetter(1), reverse=True)\n",
    "    \n",
    "    return sortedVotes[0][0] # Take the key in the key-value pair, which consists of the majority vote class"
   ]
  },
  {
   "cell_type": "markdown",
   "metadata": {},
   "source": [
    "###### Test your method on the following samples"
   ]
  },
  {
   "cell_type": "code",
   "execution_count": 9,
   "metadata": {},
   "outputs": [
    {
     "name": "stdout",
     "output_type": "stream",
     "text": [
      "a\n"
     ]
    }
   ],
   "source": [
    "neighbors = [[1,1,1,'a'], [2,2,2,'a'], [3,3,3,'b']]\n",
    "response = predict(neighbors)\n",
    "print(response)"
   ]
  },
  {
   "cell_type": "markdown",
   "metadata": {},
   "source": [
    "### Measuring Model Performance\n",
    "\n",
    "######  We're basically ready to test the performance of our very own k-NN implementation! One popular classification metric is accuracy, use the following method to check how well our k-NN algorithm performs on the test set we left aside."
   ]
  },
  {
   "cell_type": "code",
   "execution_count": 10,
   "metadata": {},
   "outputs": [],
   "source": [
    "def getAccuracy(testSet, predictions):\n",
    "    correct = 0\n",
    "    for x in range(len(testSet)):\n",
    "        if (testSet[x][-1] == predictions[x]):\n",
    "            correct += 1\n",
    "    return (correct/float(len(testSet))) * 100.0"
   ]
  },
  {
   "cell_type": "markdown",
   "metadata": {},
   "source": [
    "##### Test the method on the following samples."
   ]
  },
  {
   "cell_type": "code",
   "execution_count": 11,
   "metadata": {},
   "outputs": [
    {
     "name": "stdout",
     "output_type": "stream",
     "text": [
      "66.66666666666666\n"
     ]
    }
   ],
   "source": [
    "testSet = [[1,1,1,'a'], [2,2,2,'a'], [3,3,3,'b']]\n",
    "predictions = ['a', 'a', 'a']\n",
    "accuracy = getAccuracy(testSet, predictions)\n",
    "print(accuracy)"
   ]
  },
  {
   "cell_type": "markdown",
   "metadata": {},
   "source": [
    "######  Make predictions on the test set for different values of k. Compare the accuracy for different values and plot test performance, explaining why you think performance increases or decreases for different values of k (WRITE ANSWER IN BOX BELOW PLOT). Loop from k=1 to k=49 (inclusively), only considering cases where k is odd."
   ]
  },
  {
   "cell_type": "code",
   "execution_count": 12,
   "metadata": {},
   "outputs": [],
   "source": [
    "### YOUR CODE HERE - Create a dictionary to store accuracies for different values of k.\n",
    "\n",
    "accuracies = {}\n",
    "\n",
    "for k in range(1, 50, 2):\n",
    "    predictions = []\n",
    "\n",
    "    for x in iris_test:\n",
    "        neighbours = getNeighbours(iris_train, x, k)\n",
    "        vote = predict(neighbours)\n",
    "        predictions.append(vote)\n",
    "\n",
    "    accuracy = getAccuracy(iris_test, predictions)\n",
    "    \n",
    "    accuracies[k] = accuracy"
   ]
  },
  {
   "cell_type": "markdown",
   "metadata": {},
   "source": [
    "##### Plot a bar chart, having the different values of k on the x-axis and the test accuracy (in %) on the y-axis. Add a plot title, and choose a suitable format for readability."
   ]
  },
  {
   "cell_type": "code",
   "execution_count": 13,
   "metadata": {},
   "outputs": [
    {
     "data": {
      "image/png": "[encoded data removed]",
      "text/plain": [
       "<Figure size 720x432 with 1 Axes>"
      ]
     },
     "metadata": {
      "needs_background": "light"
     },
     "output_type": "display_data"
    }
   ],
   "source": [
    "### YOUR CODE HERE - Create a bar plot\n",
    "\n",
    "plt.figure(figsize=(10, 6))\n",
    "plt.title('Values of k in kNN Implementation versus Test Accuracy in %')\n",
    "plt.bar(range(len(accuracies)), accuracies.values(), align='center')\n",
    "plt.xticks(range(len(accuracies)), list(accuracies.keys()))\n",
    "\n",
    "plt.show()"
   ]
  },
  {
   "cell_type": "markdown",
   "metadata": {},
   "source": [
    "###### YOUR EXPLANATION HERE (Hint: think of the bias-variance trade-off/ AND underfitting/overfitting)"
   ]
  },
  {
   "cell_type": "markdown",
   "metadata": {},
   "source": [
    "###  Classification Algorithm Comparison\n",
    "\n",
    "Now that we've learned about a couple of classification algorithms, you must be wondering: which algorithm should I choose for a given task? In the following question, we'll learn to investigate model performance for various algorithms and then based off the best algorithm, do some hyperparameter tuning."
   ]
  },
  {
   "cell_type": "markdown",
   "metadata": {},
   "source": [
    "###### 1) Import necessary packages from sklearn.\n",
    "\n",
    "Here are a few popular classification algorithms available from the sklearn API. If you're curious on what supervised learning algorithms are available, don't hesitate to read up on documentation: https://scikit-learn.org/stable/supervised_learning.html (this might be useful brainstorming for your hackathon idea!)"
   ]
  },
  {
   "cell_type": "code",
   "execution_count": 14,
   "metadata": {},
   "outputs": [],
   "source": [
    "from sklearn import model_selection\n",
    "from sklearn.linear_model import LogisticRegression\n",
    "from sklearn.tree import DecisionTreeClassifier\n",
    "from sklearn.ensemble import RandomForestClassifier\n",
    "from sklearn.neighbors import KNeighborsClassifier\n",
    "from sklearn.svm import SVC\n",
    "from sklearn.discriminant_analysis import LinearDiscriminantAnalysis\n",
    "from sklearn.naive_bayes import GaussianNB"
   ]
  },
  {
   "cell_type": "markdown",
   "metadata": {},
   "source": [
    "###### 2) Load the Pima Indians Diabetes Dataset using pandas.\n",
    "\n",
    "Just another way of downloading a CSV file from online! Let's inspect the dataset we're working with, the Pima Indians Diabetes Dataset.\n",
    "\n",
    "\" This dataset is originally from the National Institute of Diabetes and Digestive and Kidney Diseases. The objective of the dataset is to diagnostically predict whether or not a patient has diabetes, based on certain diagnostic measurements included in the dataset. Several constraints were placed on the selection of these instances from a larger database. In particular, all patients here are females at least 21 years old of Pima Indian heritage. \" - Kaggle"
   ]
  },
  {
   "cell_type": "code",
   "execution_count": 15,
   "metadata": {},
   "outputs": [
    {
     "data": {
      "text/html": [
       "<div>\n",
       "<style scoped>\n",
       "    .dataframe tbody tr th:only-of-type {\n",
       "        vertical-align: middle;\n",
       "    }\n",
       "\n",
       "    .dataframe tbody tr th {\n",
       "        vertical-align: top;\n",
       "    }\n",
       "\n",
       "    .dataframe thead th {\n",
       "        text-align: right;\n",
       "    }\n",
       "</style>\n",
       "<table border=\"1\" class=\"dataframe\">\n",
       "  <thead>\n",
       "    <tr style=\"text-align: right;\">\n",
       "      <th></th>\n",
       "      <th>preg</th>\n",
       "      <th>plas</th>\n",
       "      <th>pres</th>\n",
       "      <th>skin</th>\n",
       "      <th>test</th>\n",
       "      <th>mass</th>\n",
       "      <th>pedi</th>\n",
       "      <th>age</th>\n",
       "      <th>class</th>\n",
       "    </tr>\n",
       "  </thead>\n",
       "  <tbody>\n",
       "    <tr>\n",
       "      <th>0</th>\n",
       "      <td>6</td>\n",
       "      <td>148</td>\n",
       "      <td>72</td>\n",
       "      <td>35</td>\n",
       "      <td>0</td>\n",
       "      <td>33.6</td>\n",
       "      <td>0.627</td>\n",
       "      <td>50</td>\n",
       "      <td>1</td>\n",
       "    </tr>\n",
       "    <tr>\n",
       "      <th>1</th>\n",
       "      <td>1</td>\n",
       "      <td>85</td>\n",
       "      <td>66</td>\n",
       "      <td>29</td>\n",
       "      <td>0</td>\n",
       "      <td>26.6</td>\n",
       "      <td>0.351</td>\n",
       "      <td>31</td>\n",
       "      <td>0</td>\n",
       "    </tr>\n",
       "    <tr>\n",
       "      <th>2</th>\n",
       "      <td>8</td>\n",
       "      <td>183</td>\n",
       "      <td>64</td>\n",
       "      <td>0</td>\n",
       "      <td>0</td>\n",
       "      <td>23.3</td>\n",
       "      <td>0.672</td>\n",
       "      <td>32</td>\n",
       "      <td>1</td>\n",
       "    </tr>\n",
       "    <tr>\n",
       "      <th>3</th>\n",
       "      <td>1</td>\n",
       "      <td>89</td>\n",
       "      <td>66</td>\n",
       "      <td>23</td>\n",
       "      <td>94</td>\n",
       "      <td>28.1</td>\n",
       "      <td>0.167</td>\n",
       "      <td>21</td>\n",
       "      <td>0</td>\n",
       "    </tr>\n",
       "    <tr>\n",
       "      <th>4</th>\n",
       "      <td>0</td>\n",
       "      <td>137</td>\n",
       "      <td>40</td>\n",
       "      <td>35</td>\n",
       "      <td>168</td>\n",
       "      <td>43.1</td>\n",
       "      <td>2.288</td>\n",
       "      <td>33</td>\n",
       "      <td>1</td>\n",
       "    </tr>\n",
       "  </tbody>\n",
       "</table>\n",
       "</div>"
      ],
      "text/plain": [
       "   preg  plas  pres  skin  test  mass   pedi  age  class\n",
       "0     6   148    72    35     0  33.6  0.627   50      1\n",
       "1     1    85    66    29     0  26.6  0.351   31      0\n",
       "2     8   183    64     0     0  23.3  0.672   32      1\n",
       "3     1    89    66    23    94  28.1  0.167   21      0\n",
       "4     0   137    40    35   168  43.1  2.288   33      1"
      ]
     },
     "execution_count": 15,
     "metadata": {},
     "output_type": "execute_result"
    }
   ],
   "source": [
    "# load dataset\n",
    "\n",
    "url = \"https://raw.githubusercontent.com/jbrownlee/Datasets/master/pima-indians-diabetes.data.csv\"\n",
    "names = ['preg', 'plas', 'pres', 'skin', 'test', 'mass', 'pedi', 'age', 'class']\n",
    "\n",
    "df = pd.read_csv(url, names=names)  # names parameter is simply used to name the columns, defaults to None if unspecified\n",
    "\n",
    "df.head()"
   ]
  },
  {
   "cell_type": "markdown",
   "metadata": {},
   "source": [
    "###### 3) Take the values of the DataFrame as a numpy array, then separate the features and target variable columns into X, y respectively.\n",
    "\n",
    "We don't directly split up the train/test splits, because we'll be using the sklearn k cross-fold validation implementation, which takes in the entire dataset as an argument.\n"
   ]
  },
  {
   "cell_type": "code",
   "execution_count": 16,
   "metadata": {},
   "outputs": [
    {
     "name": "stdout",
     "output_type": "stream",
     "text": [
      "(768, 9)\n"
     ]
    }
   ],
   "source": [
    "array = df.values\n",
    "print(array.shape)\n",
    "\n",
    "X = array[:,0:8]  # Take first 8 columns as features\n",
    "y = array[:,8]  # Take last column as the target variable"
   ]
  },
  {
   "cell_type": "markdown",
   "metadata": {},
   "source": [
    "Note that we're going to fix the random seed in the data partitioning step of k cross-fold validation, for the simple reason of wanting to minimize performance differences to be due to different data partitions seen by each algorithm. Hence, adding this seed will cause every algorithm to see the same shuffled data."
   ]
  },
  {
   "cell_type": "code",
   "execution_count": 17,
   "metadata": {},
   "outputs": [],
   "source": [
    "# Fix random seed in data partitions\n",
    "seed = 7\n",
    "\n",
    "# Prepare models\n",
    "models = []\n",
    "models.append(('LR', LogisticRegression(solver='lbfgs', max_iter=500)))\n",
    "models.append(('LDA', LinearDiscriminantAnalysis()))\n",
    "models.append(('KNN', KNeighborsClassifier()))\n",
    "models.append(('CART', DecisionTreeClassifier()))\n",
    "models.append(('RF', RandomForestClassifier(n_estimators=100)))\n",
    "models.append(('NB', GaussianNB()))\n",
    "models.append(('SVM', SVC(gamma='auto')))"
   ]
  },
  {
   "cell_type": "markdown",
   "metadata": {},
   "source": [
    "###### 4) Now, we evaluate each model individually and store cross-validation results for preliminary comparison. Note that we haven't done any hyperparameter tuning as we have for our k-NN implementation previously."
   ]
  },
  {
   "cell_type": "code",
   "execution_count": 18,
   "metadata": {},
   "outputs": [
    {
     "name": "stdout",
     "output_type": "stream",
     "text": [
      "LR: 0.7760423786739576 (0.051575452620868226)\n",
      "LDA: 0.773462064251538 (0.05159180390446138)\n",
      "KNN: 0.7265550239234451 (0.06182131406705549)\n",
      "CART: 0.6834757347915242 (0.060784252569561034)\n",
      "RF: 0.7617053998632947 (0.06909268153523596)\n",
      "NB: 0.7551777170198223 (0.04276593954064409)\n",
      "SVM: 0.6510252904989747 (0.07214083485055327)\n"
     ]
    }
   ],
   "source": [
    "# Evaluate each model individually\n",
    "\n",
    "results = []\n",
    "names = []\n",
    "scoring = 'accuracy'\n",
    "\n",
    "for name, model in models:\n",
    "    \n",
    "    kfold = model_selection.KFold(n_splits=10, random_state=seed)  # Provides train/test indices to split data in train/test sets.\n",
    "    cv_results = model_selection.cross_val_score(model, X, y, cv=kfold, scoring=scoring)  \n",
    "    results.append(cv_results)\n",
    "    names.append(name)\n",
    "    msg = \"{}: {} ({})\".format(name, cv_results.mean(), cv_results.std())  # Provides the mean accuracy, std dev for results\n",
    "    print(msg)\n"
   ]
  },
  {
   "cell_type": "markdown",
   "metadata": {},
   "source": [
    "###### 5) Use a boxplot to show results\n",
    "\n",
    "In both academia/research and industry, graphs are necessary to simply display results and convey messages more clearly. Below, we show a boxplot, where each horizontal line represents the median result obtained, the T-shaped ends show the highest and lowest results. The box simply contains where \"most\" the results lie."
   ]
  },
  {
   "cell_type": "code",
   "execution_count": 19,
   "metadata": {},
   "outputs": [
    {
     "data": {
      "image/png": "[encoded data removed]",
      "text/plain": [
       "<Figure size 432x288 with 1 Axes>"
      ]
     },
     "metadata": {
      "needs_background": "light"
     },
     "output_type": "display_data"
    }
   ],
   "source": [
    "# boxplot algorithm comparison\n",
    "fig = plt.figure()\n",
    "fig.suptitle('Algorithm Comparison')\n",
    "ax = fig.add_subplot(111)\n",
    "plt.boxplot(results)\n",
    "ax.set_xticklabels(names)\n",
    "plt.show()"
   ]
  },
  {
   "cell_type": "markdown",
   "metadata": {},
   "source": [
    "### Now, it's your turn!\n",
    "\n",
    "After doing some preliminary comparison between a few classification algorithms, you can now select a few and do some hyperparameter tuning. For example, random forests did fairly well, and we haven't even tuned any of its hyperparameters (e.g. max tree depth, number of trees, etc.) To find optimal hyperparameters, it's common to perform a **grid search** over a parameter space. Essentially, you want to specify a range of values for different hyperparameters within an algorithm, and try out every combination of parameters that are evaluated on a test set left aside (Do you see the recurring theme of leaving data aside?). Typically, you'd select the hyperparameter values that worked best on your test set. \n",
    "\n",
    "Sklearn has an API for just that, which takes in a **model**, and a **dictionary of parameters** to search over: [scikit-learn docs](https://scikit-learn.org/stable/modules/grid_search.html#grid-search) . Follow the example [here](https://scikit-learn.org/stable/auto_examples/model_selection/plot_grid_search_digits.html#sphx-glr-auto-examples-model-selection-plot-grid-search-digits-py) to see how to use the API:\n",
    "- Select an algorithm of your choice from the sklearn classification models (Random Forests is a nice one though)\n",
    "- Used the **GridSearchCV** module to find optimal hyperparameters for your model (pick 2-3 parameters to search over!)\n",
    "- Let us know if you have any cool results to show!"
   ]
  },
  {
   "cell_type": "code",
   "execution_count": 25,
   "metadata": {},
   "outputs": [
    {
     "name": "stdout",
     "output_type": "stream",
     "text": [
      "Tuning hyper-parameters for precision\n",
      "\n",
      "Best parameters set found on development set:\n",
      "\n",
      "{'min_samples_leaf': 3, 'n_estimators': 400}\n",
      "\n",
      "Grid scores on development set:\n",
      "\n",
      "0.676 (+/-0.096) for {'min_samples_leaf': 1, 'n_estimators': 10}\n",
      "0.692 (+/-0.152) for {'min_samples_leaf': 1, 'n_estimators': 100}\n",
      "0.691 (+/-0.205) for {'min_samples_leaf': 1, 'n_estimators': 200}\n",
      "0.691 (+/-0.166) for {'min_samples_leaf': 1, 'n_estimators': 300}\n",
      "0.698 (+/-0.171) for {'min_samples_leaf': 1, 'n_estimators': 400}\n",
      "0.680 (+/-0.157) for {'min_samples_leaf': 1, 'n_estimators': 500}\n",
      "0.688 (+/-0.182) for {'min_samples_leaf': 1, 'n_estimators': 600}\n",
      "0.670 (+/-0.177) for {'min_samples_leaf': 1, 'n_estimators': 750}\n",
      "0.684 (+/-0.160) for {'min_samples_leaf': 1, 'n_estimators': 1000}\n",
      "0.652 (+/-0.133) for {'min_samples_leaf': 2, 'n_estimators': 10}\n",
      "0.680 (+/-0.158) for {'min_samples_leaf': 2, 'n_estimators': 100}\n",
      "0.670 (+/-0.156) for {'min_samples_leaf': 2, 'n_estimators': 200}\n",
      "0.677 (+/-0.125) for {'min_samples_leaf': 2, 'n_estimators': 300}\n",
      "0.704 (+/-0.198) for {'min_samples_leaf': 2, 'n_estimators': 400}\n",
      "0.701 (+/-0.191) for {'min_samples_leaf': 2, 'n_estimators': 500}\n",
      "0.693 (+/-0.174) for {'min_samples_leaf': 2, 'n_estimators': 600}\n",
      "0.700 (+/-0.197) for {'min_samples_leaf': 2, 'n_estimators': 750}\n",
      "0.683 (+/-0.149) for {'min_samples_leaf': 2, 'n_estimators': 1000}\n",
      "0.687 (+/-0.114) for {'min_samples_leaf': 3, 'n_estimators': 10}\n",
      "0.696 (+/-0.103) for {'min_samples_leaf': 3, 'n_estimators': 100}\n",
      "0.684 (+/-0.191) for {'min_samples_leaf': 3, 'n_estimators': 200}\n",
      "0.668 (+/-0.122) for {'min_samples_leaf': 3, 'n_estimators': 300}\n",
      "0.705 (+/-0.202) for {'min_samples_leaf': 3, 'n_estimators': 400}\n",
      "0.671 (+/-0.122) for {'min_samples_leaf': 3, 'n_estimators': 500}\n",
      "0.686 (+/-0.128) for {'min_samples_leaf': 3, 'n_estimators': 600}\n",
      "0.694 (+/-0.181) for {'min_samples_leaf': 3, 'n_estimators': 750}\n",
      "0.694 (+/-0.167) for {'min_samples_leaf': 3, 'n_estimators': 1000}\n",
      "\n",
      "Detailed classification report:\n",
      "\n",
      "The model is trained on the full development set.\n",
      "The scores are computed on the full evaluation set.\n",
      "\n",
      "              precision    recall  f1-score   support\n",
      "\n",
      "         0.0       0.80      0.91      0.85       253\n",
      "         1.0       0.76      0.56      0.65       131\n",
      "\n",
      "   micro avg       0.79      0.79      0.79       384\n",
      "   macro avg       0.78      0.74      0.75       384\n",
      "weighted avg       0.79      0.79      0.78       384\n",
      "\n",
      "\n",
      "Tuning hyper-parameters for recall\n",
      "\n",
      "Best parameters set found on development set:\n",
      "\n",
      "{'min_samples_leaf': 2, 'n_estimators': 100}\n",
      "\n",
      "Grid scores on development set:\n",
      "\n",
      "0.481 (+/-0.124) for {'min_samples_leaf': 1, 'n_estimators': 10}\n",
      "0.546 (+/-0.189) for {'min_samples_leaf': 1, 'n_estimators': 100}\n",
      "0.553 (+/-0.149) for {'min_samples_leaf': 1, 'n_estimators': 200}\n",
      "0.561 (+/-0.103) for {'min_samples_leaf': 1, 'n_estimators': 300}\n",
      "0.568 (+/-0.138) for {'min_samples_leaf': 1, 'n_estimators': 400}\n",
      "0.553 (+/-0.163) for {'min_samples_leaf': 1, 'n_estimators': 500}\n",
      "0.576 (+/-0.131) for {'min_samples_leaf': 1, 'n_estimators': 600}\n",
      "0.568 (+/-0.131) for {'min_samples_leaf': 1, 'n_estimators': 750}\n",
      "0.554 (+/-0.154) for {'min_samples_leaf': 1, 'n_estimators': 1000}\n",
      "0.517 (+/-0.241) for {'min_samples_leaf': 2, 'n_estimators': 10}\n",
      "0.576 (+/-0.088) for {'min_samples_leaf': 2, 'n_estimators': 100}\n",
      "0.561 (+/-0.192) for {'min_samples_leaf': 2, 'n_estimators': 200}\n",
      "0.524 (+/-0.198) for {'min_samples_leaf': 2, 'n_estimators': 300}\n",
      "0.547 (+/-0.122) for {'min_samples_leaf': 2, 'n_estimators': 400}\n",
      "0.553 (+/-0.188) for {'min_samples_leaf': 2, 'n_estimators': 500}\n",
      "0.531 (+/-0.164) for {'min_samples_leaf': 2, 'n_estimators': 600}\n",
      "0.547 (+/-0.139) for {'min_samples_leaf': 2, 'n_estimators': 750}\n",
      "0.532 (+/-0.155) for {'min_samples_leaf': 2, 'n_estimators': 1000}\n",
      "0.554 (+/-0.158) for {'min_samples_leaf': 3, 'n_estimators': 10}\n",
      "0.532 (+/-0.155) for {'min_samples_leaf': 3, 'n_estimators': 100}\n",
      "0.539 (+/-0.170) for {'min_samples_leaf': 3, 'n_estimators': 200}\n",
      "0.553 (+/-0.163) for {'min_samples_leaf': 3, 'n_estimators': 300}\n",
      "0.532 (+/-0.147) for {'min_samples_leaf': 3, 'n_estimators': 400}\n",
      "0.561 (+/-0.164) for {'min_samples_leaf': 3, 'n_estimators': 500}\n",
      "0.546 (+/-0.176) for {'min_samples_leaf': 3, 'n_estimators': 600}\n",
      "0.532 (+/-0.155) for {'min_samples_leaf': 3, 'n_estimators': 750}\n",
      "0.539 (+/-0.170) for {'min_samples_leaf': 3, 'n_estimators': 1000}\n",
      "\n",
      "Detailed classification report:\n",
      "\n",
      "The model is trained on the full development set.\n",
      "The scores are computed on the full evaluation set.\n",
      "\n",
      "              precision    recall  f1-score   support\n",
      "\n",
      "         0.0       0.78      0.87      0.83       253\n",
      "         1.0       0.69      0.53      0.60       131\n",
      "\n",
      "   micro avg       0.76      0.76      0.76       384\n",
      "   macro avg       0.73      0.70      0.71       384\n",
      "weighted avg       0.75      0.76      0.75       384\n",
      "\n",
      "\n"
     ]
    }
   ],
   "source": [
    "### YOUR CODE HERE - Find optimal hyperparameters for an algorithm of your choice\n",
    "\n",
    "from sklearn.model_selection import train_test_split\n",
    "from sklearn.model_selection import GridSearchCV\n",
    "from sklearn.metrics import classification_report\n",
    "\n",
    "# Split the dataset in two equal parts\n",
    "X_train, X_test, y_train, y_test = train_test_split(\n",
    "    X, y, test_size=0.5, random_state=0)\n",
    "\n",
    "# Set the parameters by cross-validation\n",
    "tuned_parameters = [{'n_estimators': [10, 100, 200, 300, 400, 500, 600, 750, 1000], 'min_samples_leaf': [1,2,3]}]\n",
    "\n",
    "scores = ['precision', 'recall']\n",
    "\n",
    "for score in scores:\n",
    "    print(\"Tuning hyper-parameters for {}\".format(score))\n",
    "    print()\n",
    "\n",
    "    clf = GridSearchCV(RandomForestClassifier(), tuned_parameters, cv=5,\n",
    "                       scoring=score, iid=False)\n",
    "    clf.fit(X_train, y_train)\n",
    "\n",
    "    print(\"Best parameters set found on development set:\")\n",
    "    print()\n",
    "    print(clf.best_params_)\n",
    "    print()\n",
    "    print(\"Grid scores on development set:\")\n",
    "    print()\n",
    "    means = clf.cv_results_['mean_test_score']\n",
    "    stds = clf.cv_results_['std_test_score']\n",
    "    for mean, std, params in zip(means, stds, clf.cv_results_['params']):\n",
    "        print(\"%0.3f (+/-%0.03f) for %r\"\n",
    "              % (mean, std * 2, params))\n",
    "    print()\n",
    "\n",
    "    print(\"Detailed classification report:\")\n",
    "    print()\n",
    "    print(\"The model is trained on the full development set.\")\n",
    "    print(\"The scores are computed on the full evaluation set.\")\n",
    "    print()\n",
    "    y_true, y_pred = y_test, clf.predict(X_test)\n",
    "    print(classification_report(y_true, y_pred))\n",
    "    print()"
   ]
  },
  {
   "cell_type": "markdown",
   "metadata": {},
   "source": [
    "###### Now you're familiar with fundamental, but VERY important algorithm selection and evaluation techniques! Congrats :)"
   ]
  }
 ],
 "metadata": {
  "kernelspec": {
   "display_name": "Python 3",
   "language": "python",
   "name": "python3"
  },
  "language_info": {
   "codemirror_mode": {
    "name": "ipython",
    "version": 3
   },
   "file_extension": ".py",
   "mimetype": "text/x-python",
   "name": "python",
   "nbconvert_exporter": "python",
   "pygments_lexer": "ipython3",
   "version": "3.7.0"
  }
 },
 "nbformat": 4,
 "nbformat_minor": 2
}
