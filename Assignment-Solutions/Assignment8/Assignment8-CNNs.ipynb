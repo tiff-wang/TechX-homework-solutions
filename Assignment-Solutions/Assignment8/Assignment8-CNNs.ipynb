{
 "cells": [
  {
   "cell_type": "markdown",
   "metadata": {
    "collapsed": true
   },
   "source": [
    "# Assignment 8 - Convolutional Neural Networks\n",
    "\n",
    "Congratulations! You have made it to the last assignment of the TechX Machine Learning bootcamp. In the following assignment, you will explore with convolutional neural networks (CNNs) by training a classifier to recognize the difference between images of cats and dogs. The training time of this assignment will take longer than previous ones, so it reccommended to run this on a GPU.\n",
    "\n",
    "Start by downloading the dataset and unzipping to your local environment: [https://techx.blob.core.windows.net/cats-and-dogs/dataset.zip](https://techx.blob.core.windows.net/cats-and-dogs/dataset.zip)"
   ]
  },
  {
   "cell_type": "markdown",
   "metadata": {},
   "source": [
    "### Import Libraries\n",
    "\n",
    "As usual, let's start by importing the necessary libaries."
   ]
  },
  {
   "cell_type": "code",
   "execution_count": 1,
   "metadata": {},
   "outputs": [
    {
     "name": "stderr",
     "output_type": "stream",
     "text": [
      "/data/anaconda/envs/py35/lib/python3.5/site-packages/h5py/__init__.py:36: FutureWarning: Conversion of the second argument of issubdtype from `float` to `np.floating` is deprecated. In future, it will be treated as `np.float64 == np.dtype(float).type`.\n",
      "  from ._conv import register_converters as _register_converters\n",
      "Using TensorFlow backend.\n"
     ]
    }
   ],
   "source": [
    "%matplotlib inline\n",
    "\n",
    "from __future__ import print_function\n",
    "from keras.models import Model, Sequential, load_model\n",
    "from keras.layers import Dense, Input, Conv2D, MaxPooling2D, Flatten, Dropout\n",
    "from keras.datasets import mnist\n",
    "from keras.optimizers import Adam\n",
    "from keras.preprocessing import image\n",
    "from keras.applications import VGG16\n",
    "from keras.preprocessing.image import ImageDataGenerator\n",
    "from keras import activations\n",
    "\n",
    "import matplotlib.pyplot as plt\n",
    "import pandas as pd\n",
    "import numpy as np\n",
    "import seaborn as sns\n",
    "import warnings\n",
    "import os\n",
    "import pickle"
   ]
  },
  {
   "cell_type": "markdown",
   "metadata": {},
   "source": [
    "### Helper Methods\n",
    "Below are some helper methods that have been created for usage later in the assignment."
   ]
  },
  {
   "cell_type": "code",
   "execution_count": 2,
   "metadata": {},
   "outputs": [],
   "source": [
    "def smooth_curve(points, factor=0.8):\n",
    "    smoothed = []\n",
    "    for point in points:\n",
    "        if smoothed:\n",
    "            previous = smoothed[-1]\n",
    "            smoothed.append(previous * factor + point * (1 - factor))\n",
    "        else:\n",
    "            smoothed.append(point)\n",
    "    return smoothed\n",
    "\n",
    "def plot_compare(history, steps=-1):\n",
    "    if steps < 0:\n",
    "        steps = len(history.history['acc'])\n",
    "    acc = smooth_curve(history.history['acc'][:steps])\n",
    "    val_acc = smooth_curve(history.history['val_acc'][:steps])\n",
    "    loss = smooth_curve(history.history['loss'][:steps])\n",
    "    val_loss = smooth_curve(history.history['val_loss'][:steps])\n",
    "    \n",
    "    plt.figure(figsize=(6, 4))\n",
    "    plt.plot(loss, c='#0c7cba', label='Train Loss')\n",
    "    plt.plot(val_loss, c='#0f9d58', label='Val Loss')\n",
    "    plt.xticks(range(0, len(loss), 5))\n",
    "    plt.xlim(0, len(loss))\n",
    "    plt.title('Train Loss: %.3f, Val Loss: %.3f' % (loss[-1], val_loss[-1]), fontsize=12)\n",
    "    plt.legend()\n",
    "    \n",
    "    plt.figure(figsize=(6, 4))\n",
    "    plt.plot(acc, c='#0c7cba', label='Train Acc')\n",
    "    plt.plot(val_acc, c='#0f9d58', label='Val Acc')\n",
    "    plt.xticks(range(0, len(acc), 5))\n",
    "    plt.xlim(0, len(acc))\n",
    "    plt.title('Train Accuracy: %.3f, Val Accuracy: %.3f' % (acc[-1], val_acc[-1]), fontsize=12)\n",
    "    plt.legend()\n",
    " \n",
    "def save_history(history, fn):\n",
    "    with open(fn, 'wb') as fw:\n",
    "        pickle.dump(history.history, fw, protocol=2)\n",
    "\n",
    "def load_history(fn):\n",
    "    class Temp():\n",
    "        pass\n",
    "    history = Temp()\n",
    "    with open(fn, 'rb') as fr:\n",
    "        history.history = pickle.load(fr)\n",
    "    return history"
   ]
  },
  {
   "cell_type": "markdown",
   "metadata": {},
   "source": [
    "### Question 1: Load Data and Prepare Data\n",
    "\n",
    "When it comes to CNNs, we are usually working with data that takes up a large amount of space which means we will need to load the data in batches. You'll also notice that the dataset only has 1500 images for each class, which is not nearly enough data to train an accurate classifier using a deep neural network approach. As a result, we will need to augment our data as well - perform linear transformations on the existing data in order to create additional new data.\n",
    "\n",
    "Luckily, there is [built in functionality in keras](https://keras.io/preprocessing/image/) to help us load our data in batches while augmenting it in real-time. Let's start by using this library to load and prepare our data."
   ]
  },
  {
   "cell_type": "markdown",
   "metadata": {},
   "source": [
    "#### Start by setting the root path of your dataset:"
   ]
  },
  {
   "cell_type": "code",
   "execution_count": 3,
   "metadata": {},
   "outputs": [],
   "source": [
    "## ========== YOUR CODE HERE ========= ##\n",
    "base_dir = 'dataset'\n",
    "train_dir = os.path.join(base_dir, 'train')\n",
    "validation_dir = os.path.join(base_dir, 'validation')\n",
    "test_dir = os.path.join(base_dir, 'test')"
   ]
  },
  {
   "cell_type": "markdown",
   "metadata": {},
   "source": [
    "#### Create instances of the ImageDataGenerator object for the train and test data with the following parameters:\n",
    "1) Train data:\n",
    "- Rescale: 1./255\n",
    "- Rotation Range: 40\n",
    "- Width Shift Range: 0.2\n",
    "- Height Shift Range: 0.2\n",
    "- Shear Range: 0.2\n",
    "- Zoom Range: 0.2\n",
    "- Horizontal Flip: True\n",
    "\n",
    "2) Test data:\n",
    "- Rescale: 1./255\n",
    "\n",
    "#### Use the online documentation for support."
   ]
  },
  {
   "cell_type": "code",
   "execution_count": 4,
   "metadata": {},
   "outputs": [],
   "source": [
    "## ========== YOUR CODE HERE ========= ##\n",
    "train_datagen = ImageDataGenerator(\n",
    "    rescale=1./255,\n",
    "    rotation_range=40,\n",
    "    width_shift_range=0.2,\n",
    "    height_shift_range=0.2,\n",
    "    shear_range=0.2,\n",
    "    zoom_range=0.2,\n",
    "    horizontal_flip=True,)\n",
    "\n",
    "test_datagen = ImageDataGenerator(rescale=1./255)"
   ]
  },
  {
   "cell_type": "markdown",
   "metadata": {},
   "source": [
    "#### Set the directory, target size (150,150), batch size (32), and class mode (binary) on the data generator instances using the .flow_from_directory method. "
   ]
  },
  {
   "cell_type": "code",
   "execution_count": 5,
   "metadata": {},
   "outputs": [
    {
     "name": "stdout",
     "output_type": "stream",
     "text": [
      "Found 2000 images belonging to 2 classes.\n",
      "Found 1000 images belonging to 2 classes.\n"
     ]
    }
   ],
   "source": [
    "## ========== YOUR CODE HERE ========= ##\n",
    "train_generator = train_datagen.flow_from_directory(\n",
    "        train_dir,\n",
    "        target_size=(150, 150),\n",
    "        batch_size=32,\n",
    "        class_mode='binary')\n",
    "\n",
    "validation_generator = test_datagen.flow_from_directory(\n",
    "        validation_dir,\n",
    "        target_size=(150, 150),\n",
    "        batch_size=32,\n",
    "        class_mode='binary')"
   ]
  },
  {
   "cell_type": "markdown",
   "metadata": {},
   "source": [
    "### Question 2: Build and Train Custom Model\n",
    "Now that our data is ready, it is time to start training our model. This section will first go over an example of how to build a custom CNN architecture and train our data on this model. Then you will be given the outline for another custom architecture which you will have to build and train by yourself. "
   ]
  },
  {
   "cell_type": "markdown",
   "metadata": {},
   "source": [
    "#### For the first custom model, we will create and compile a sequential model with the following architecture\n",
    "- Convolution layer with 32 filters, 3x3 kernel, relu activation, and padding\n",
    "- Max pooling layer with a size of 2x2\n",
    "- Flattening layer\n",
    "- Densely connected output layer with dimension of 1 and sigmoid activation function"
   ]
  },
  {
   "cell_type": "code",
   "execution_count": 6,
   "metadata": {
    "scrolled": false
   },
   "outputs": [
    {
     "name": "stdout",
     "output_type": "stream",
     "text": [
      "WARNING:tensorflow:From /data/anaconda/envs/py35/lib/python3.5/site-packages/tensorflow/python/framework/op_def_library.py:263: colocate_with (from tensorflow.python.framework.ops) is deprecated and will be removed in a future version.\n",
      "Instructions for updating:\n",
      "Colocations handled automatically by placer.\n"
     ]
    }
   ],
   "source": [
    "# create the model defined above\n",
    "model_custom1 = Sequential()\n",
    "model_custom1.add(Conv2D(32, (3, 3), activation='relu', padding='same', name='conv_1', \n",
    "                 input_shape=(150, 150, 3)))\n",
    "model_custom1.add(MaxPooling2D((2, 2), name='maxpool_1'))\n",
    "model_custom1.add(Flatten())\n",
    "model_custom1.add(Dense(1, activation='sigmoid', name='output'))\n",
    "\n",
    "# compile the model\n",
    "model_custom1.compile(optimizer='adam', loss='binary_crossentropy', metrics=['accuracy'])"
   ]
  },
  {
   "cell_type": "markdown",
   "metadata": {},
   "source": [
    "#### We can print a summary of the architecture as shown below"
   ]
  },
  {
   "cell_type": "code",
   "execution_count": 7,
   "metadata": {
    "scrolled": false
   },
   "outputs": [
    {
     "name": "stdout",
     "output_type": "stream",
     "text": [
      "_________________________________________________________________\n",
      "Layer (type)                 Output Shape              Param #   \n",
      "=================================================================\n",
      "conv_1 (Conv2D)              (None, 150, 150, 32)      896       \n",
      "_________________________________________________________________\n",
      "maxpool_1 (MaxPooling2D)     (None, 75, 75, 32)        0         \n",
      "_________________________________________________________________\n",
      "flatten_1 (Flatten)          (None, 180000)            0         \n",
      "_________________________________________________________________\n",
      "output (Dense)               (None, 1)                 180001    \n",
      "=================================================================\n",
      "Total params: 180,897\n",
      "Trainable params: 180,897\n",
      "Non-trainable params: 0\n",
      "_________________________________________________________________\n"
     ]
    }
   ],
   "source": [
    "model_custom1.summary()"
   ]
  },
  {
   "cell_type": "markdown",
   "metadata": {},
   "source": [
    "#### We can now train and save the model."
   ]
  },
  {
   "cell_type": "code",
   "execution_count": 8,
   "metadata": {
    "scrolled": false
   },
   "outputs": [
    {
     "name": "stdout",
     "output_type": "stream",
     "text": [
      "WARNING:tensorflow:From /data/anaconda/envs/py35/lib/python3.5/site-packages/tensorflow/python/ops/math_ops.py:3066: to_int32 (from tensorflow.python.ops.math_ops) is deprecated and will be removed in a future version.\n",
      "Instructions for updating:\n",
      "Use tf.cast instead.\n",
      "Epoch 1/50\n",
      "100/100 [==============================] - 24s 241ms/step - loss: 1.0051 - acc: 0.5413 - val_loss: 0.6788 - val_acc: 0.5501\n",
      "Epoch 2/50\n",
      "100/100 [==============================] - 22s 215ms/step - loss: 0.6475 - acc: 0.6125 - val_loss: 0.6334 - val_acc: 0.6437\n",
      "Epoch 3/50\n",
      "100/100 [==============================] - 22s 217ms/step - loss: 0.6355 - acc: 0.6387 - val_loss: 0.6186 - val_acc: 0.6574\n",
      "Epoch 4/50\n",
      "100/100 [==============================] - 22s 216ms/step - loss: 0.6336 - acc: 0.6397 - val_loss: 0.6265 - val_acc: 0.6456\n",
      "Epoch 5/50\n",
      "100/100 [==============================] - 22s 216ms/step - loss: 0.6219 - acc: 0.6516 - val_loss: 0.6028 - val_acc: 0.6726\n",
      "Epoch 6/50\n",
      "100/100 [==============================] - 22s 217ms/step - loss: 0.6280 - acc: 0.6575 - val_loss: 0.5963 - val_acc: 0.6720\n",
      "Epoch 7/50\n",
      "100/100 [==============================] - 22s 216ms/step - loss: 0.6279 - acc: 0.6487 - val_loss: 0.6368 - val_acc: 0.6542\n",
      "Epoch 8/50\n",
      "100/100 [==============================] - 22s 216ms/step - loss: 0.6297 - acc: 0.6447 - val_loss: 0.5885 - val_acc: 0.6849\n",
      "Epoch 9/50\n",
      "100/100 [==============================] - 22s 216ms/step - loss: 0.6260 - acc: 0.6547 - val_loss: 0.6083 - val_acc: 0.6611\n",
      "Epoch 10/50\n",
      "100/100 [==============================] - 22s 217ms/step - loss: 0.6190 - acc: 0.6566 - val_loss: 0.6142 - val_acc: 0.6688\n",
      "Epoch 11/50\n",
      "100/100 [==============================] - 22s 217ms/step - loss: 0.6228 - acc: 0.6672 - val_loss: 0.5979 - val_acc: 0.6714\n",
      "Epoch 12/50\n",
      "100/100 [==============================] - 22s 216ms/step - loss: 0.6252 - acc: 0.6534 - val_loss: 0.6022 - val_acc: 0.6688\n",
      "Epoch 13/50\n",
      "100/100 [==============================] - 22s 217ms/step - loss: 0.6192 - acc: 0.6606 - val_loss: 0.5675 - val_acc: 0.6946\n",
      "Epoch 14/50\n",
      "100/100 [==============================] - 22s 216ms/step - loss: 0.6012 - acc: 0.6759 - val_loss: 0.6591 - val_acc: 0.6510\n",
      "Epoch 15/50\n",
      "100/100 [==============================] - 22s 216ms/step - loss: 0.6336 - acc: 0.6525 - val_loss: 0.6004 - val_acc: 0.6598\n",
      "Epoch 16/50\n",
      "100/100 [==============================] - 22s 215ms/step - loss: 0.6195 - acc: 0.6591 - val_loss: 0.5890 - val_acc: 0.6604\n",
      "Epoch 17/50\n",
      "100/100 [==============================] - 22s 217ms/step - loss: 0.6221 - acc: 0.6597 - val_loss: 0.6448 - val_acc: 0.6447\n",
      "Epoch 18/50\n",
      "100/100 [==============================] - 22s 216ms/step - loss: 0.6160 - acc: 0.6544 - val_loss: 0.5818 - val_acc: 0.6856\n",
      "Epoch 19/50\n",
      "100/100 [==============================] - 22s 216ms/step - loss: 0.6129 - acc: 0.6653 - val_loss: 0.6047 - val_acc: 0.6567\n",
      "Epoch 20/50\n",
      "100/100 [==============================] - 22s 217ms/step - loss: 0.6143 - acc: 0.6625 - val_loss: 0.5641 - val_acc: 0.7043\n",
      "Epoch 21/50\n",
      "100/100 [==============================] - 22s 216ms/step - loss: 0.6333 - acc: 0.6347 - val_loss: 0.6138 - val_acc: 0.6485\n",
      "Epoch 22/50\n",
      "100/100 [==============================] - 22s 217ms/step - loss: 0.6128 - acc: 0.6675 - val_loss: 0.6229 - val_acc: 0.6566\n",
      "Epoch 23/50\n",
      "100/100 [==============================] - 22s 217ms/step - loss: 0.6182 - acc: 0.6622 - val_loss: 0.6283 - val_acc: 0.6529\n",
      "Epoch 24/50\n",
      "100/100 [==============================] - 22s 216ms/step - loss: 0.6108 - acc: 0.6600 - val_loss: 0.5944 - val_acc: 0.6740\n",
      "Epoch 25/50\n",
      "100/100 [==============================] - 22s 216ms/step - loss: 0.6152 - acc: 0.6700 - val_loss: 0.5867 - val_acc: 0.6875\n",
      "Epoch 26/50\n",
      "100/100 [==============================] - 22s 216ms/step - loss: 0.6173 - acc: 0.6597 - val_loss: 0.5835 - val_acc: 0.6910\n",
      "Epoch 27/50\n",
      "100/100 [==============================] - 22s 216ms/step - loss: 0.6148 - acc: 0.6681 - val_loss: 0.5652 - val_acc: 0.6914\n",
      "Epoch 28/50\n",
      "100/100 [==============================] - 22s 216ms/step - loss: 0.6085 - acc: 0.6713 - val_loss: 0.5980 - val_acc: 0.6821\n",
      "Epoch 29/50\n",
      "100/100 [==============================] - 22s 216ms/step - loss: 0.6108 - acc: 0.6697 - val_loss: 0.5802 - val_acc: 0.7036\n",
      "Epoch 30/50\n",
      "100/100 [==============================] - 22s 217ms/step - loss: 0.6046 - acc: 0.6747 - val_loss: 0.5851 - val_acc: 0.7005\n",
      "Epoch 31/50\n",
      "100/100 [==============================] - 21s 215ms/step - loss: 0.5994 - acc: 0.6738 - val_loss: 0.5852 - val_acc: 0.6997\n",
      "Epoch 32/50\n",
      "100/100 [==============================] - 22s 216ms/step - loss: 0.6024 - acc: 0.6734 - val_loss: 0.5831 - val_acc: 0.6959\n",
      "Epoch 33/50\n",
      "100/100 [==============================] - 22s 216ms/step - loss: 0.6080 - acc: 0.6709 - val_loss: 0.5857 - val_acc: 0.6935\n",
      "Epoch 34/50\n",
      "100/100 [==============================] - 22s 216ms/step - loss: 0.5915 - acc: 0.6862 - val_loss: 0.5935 - val_acc: 0.6933\n",
      "Epoch 35/50\n",
      "100/100 [==============================] - 22s 217ms/step - loss: 0.6097 - acc: 0.6750 - val_loss: 0.5844 - val_acc: 0.6859\n",
      "Epoch 36/50\n",
      "100/100 [==============================] - 22s 216ms/step - loss: 0.6015 - acc: 0.6769 - val_loss: 0.5751 - val_acc: 0.6991\n",
      "Epoch 37/50\n",
      "100/100 [==============================] - 22s 217ms/step - loss: 0.5996 - acc: 0.6775 - val_loss: 0.5710 - val_acc: 0.6878\n",
      "Epoch 38/50\n",
      "100/100 [==============================] - 21s 215ms/step - loss: 0.6214 - acc: 0.6534 - val_loss: 0.5892 - val_acc: 0.6946\n",
      "Epoch 39/50\n",
      "100/100 [==============================] - 22s 217ms/step - loss: 0.6135 - acc: 0.6659 - val_loss: 0.5966 - val_acc: 0.6815\n",
      "Epoch 40/50\n",
      "100/100 [==============================] - 22s 217ms/step - loss: 0.6040 - acc: 0.6716 - val_loss: 0.5780 - val_acc: 0.7204\n",
      "Epoch 41/50\n",
      "100/100 [==============================] - 22s 215ms/step - loss: 0.6051 - acc: 0.6838 - val_loss: 0.6963 - val_acc: 0.6669\n",
      "Epoch 42/50\n",
      "100/100 [==============================] - 22s 217ms/step - loss: 0.5982 - acc: 0.6816 - val_loss: 0.5679 - val_acc: 0.6948\n",
      "Epoch 43/50\n",
      "100/100 [==============================] - 22s 215ms/step - loss: 0.5906 - acc: 0.6841 - val_loss: 0.5476 - val_acc: 0.7017\n",
      "Epoch 44/50\n",
      "100/100 [==============================] - 22s 216ms/step - loss: 0.5878 - acc: 0.6862 - val_loss: 0.5737 - val_acc: 0.7164\n",
      "Epoch 45/50\n",
      "100/100 [==============================] - 22s 216ms/step - loss: 0.5970 - acc: 0.6800 - val_loss: 0.5692 - val_acc: 0.7094\n",
      "Epoch 46/50\n",
      "100/100 [==============================] - 21s 215ms/step - loss: 0.5996 - acc: 0.6788 - val_loss: 0.5802 - val_acc: 0.6935\n",
      "Epoch 47/50\n",
      "100/100 [==============================] - 22s 216ms/step - loss: 0.5973 - acc: 0.6866 - val_loss: 0.5685 - val_acc: 0.7204\n",
      "Epoch 48/50\n",
      "100/100 [==============================] - 22s 215ms/step - loss: 0.5783 - acc: 0.6906 - val_loss: 0.5652 - val_acc: 0.7023\n",
      "Epoch 49/50\n",
      "100/100 [==============================] - 22s 217ms/step - loss: 0.6028 - acc: 0.6634 - val_loss: 0.5723 - val_acc: 0.6986\n",
      "Epoch 50/50\n",
      "100/100 [==============================] - 21s 215ms/step - loss: 0.5890 - acc: 0.6825 - val_loss: 0.6368 - val_acc: 0.6733\n"
     ]
    }
   ],
   "source": [
    "# train model for 50 epochs, with 100 steps per epoch, and 50 validation steps\n",
    "history_custom1 = model_custom1.fit_generator(train_generator, steps_per_epoch=100, epochs=50, \n",
    "                                      validation_data=validation_generator, validation_steps=50, verbose=1)\n",
    "\n",
    "# save the model and its history\n",
    "model_custom1.save('model-custom1.h5')\n",
    "save_history(history_custom1, 'history_custom1.bin')"
   ]
  },
  {
   "cell_type": "markdown",
   "metadata": {},
   "source": [
    "#### Then plot the results."
   ]
  },
  {
   "cell_type": "code",
   "execution_count": 11,
   "metadata": {},
   "outputs": [
    {
     "data": {
      "image/png": "[encoded data removed]",
      "text/plain": [
       "<Figure size 432x288 with 1 Axes>"
      ]
     },
     "metadata": {},
     "output_type": "display_data"
    },
    {
     "data": {
      "image/png": "[encoded data removed]",
      "text/plain": [
       "<Figure size 432x288 with 1 Axes>"
      ]
     },
     "metadata": {},
     "output_type": "display_data"
    }
   ],
   "source": [
    "# plot results\n",
    "history_custom1 = load_history('history_custom1.bin')\n",
    "plot_compare(history_custom1)"
   ]
  },
  {
   "cell_type": "markdown",
   "metadata": {},
   "source": [
    "#### Now it's your turn! Build a new custom model with the following architecture: \n",
    "- Convolution layer with 32 filters, 3x3 kernel, relu activation, and padding\n",
    "- Max pooling layer with a size of 2x2\n",
    "- Convolution layer with 64 filters, 3x3 kernel, relu activation, and padding\n",
    "- Max pooling layer with a size of 2x2\n",
    "- Convolution layer with 128 filters, 3x3 kernel, relu activation, and padding\n",
    "- Max pooling layer with a size of 2x2\n",
    "- Convolution layer with 128 filters, 3x3 kernel, relu activation, and padding\n",
    "- Max pooling layer with a size of 2x2\n",
    "- Flattening layer\n",
    "- Dropout layer with 0.5 dropout rate\n",
    "- Densely connected layer with dimension of 512 and relu activation function\n",
    "- Densely connected layer with dimension of 256 and relu activation function\n",
    "- Densely connected output layer with dimension of 1 and sigmoid activation function\n",
    "\n",
    "#### Follow the same method as above and plot the results afterwards."
   ]
  },
  {
   "cell_type": "code",
   "execution_count": 12,
   "metadata": {
    "scrolled": false
   },
   "outputs": [
    {
     "name": "stdout",
     "output_type": "stream",
     "text": [
      "WARNING:tensorflow:From /data/anaconda/envs/py35/lib/python3.5/site-packages/keras/backend/tensorflow_backend.py:3445: calling dropout (from tensorflow.python.ops.nn_ops) with keep_prob is deprecated and will be removed in a future version.\n",
      "Instructions for updating:\n",
      "Please use `rate` instead of `keep_prob`. Rate should be set to `rate = 1 - keep_prob`.\n",
      "Epoch 1/50\n",
      "100/100 [==============================] - 24s 240ms/step - loss: 0.7016 - acc: 0.5000 - val_loss: 0.6925 - val_acc: 0.4956\n",
      "Epoch 2/50\n",
      "100/100 [==============================] - 22s 217ms/step - loss: 0.6928 - acc: 0.5144 - val_loss: 0.6908 - val_acc: 0.5760\n",
      "Epoch 3/50\n",
      "100/100 [==============================] - 22s 216ms/step - loss: 0.6920 - acc: 0.5053 - val_loss: 0.6929 - val_acc: 0.5051\n",
      "Epoch 4/50\n",
      "100/100 [==============================] - 22s 218ms/step - loss: 0.6906 - acc: 0.5188 - val_loss: 0.6817 - val_acc: 0.5966\n",
      "Epoch 5/50\n",
      "100/100 [==============================] - 22s 219ms/step - loss: 0.6817 - acc: 0.5469 - val_loss: 0.6907 - val_acc: 0.4975\n",
      "Epoch 6/50\n",
      "100/100 [==============================] - 22s 216ms/step - loss: 0.6940 - acc: 0.5025 - val_loss: 0.6931 - val_acc: 0.4942\n",
      "Epoch 7/50\n",
      "100/100 [==============================] - 22s 217ms/step - loss: 0.6919 - acc: 0.5272 - val_loss: 0.6803 - val_acc: 0.5747\n",
      "Epoch 8/50\n",
      "100/100 [==============================] - 22s 217ms/step - loss: 0.6912 - acc: 0.5356 - val_loss: 0.6899 - val_acc: 0.5444\n",
      "Epoch 9/50\n",
      "100/100 [==============================] - 22s 218ms/step - loss: 0.6849 - acc: 0.5069 - val_loss: 0.6833 - val_acc: 0.5419\n",
      "Epoch 10/50\n",
      "100/100 [==============================] - 22s 217ms/step - loss: 0.6909 - acc: 0.5266 - val_loss: 0.6875 - val_acc: 0.5476\n",
      "Epoch 11/50\n",
      "100/100 [==============================] - 22s 217ms/step - loss: 0.6868 - acc: 0.5391 - val_loss: 0.6802 - val_acc: 0.5612\n",
      "Epoch 12/50\n",
      "100/100 [==============================] - 22s 218ms/step - loss: 0.6843 - acc: 0.5353 - val_loss: 0.6761 - val_acc: 0.5863\n",
      "Epoch 13/50\n",
      "100/100 [==============================] - 22s 217ms/step - loss: 0.6848 - acc: 0.5634 - val_loss: 0.6770 - val_acc: 0.5812\n",
      "Epoch 14/50\n",
      "100/100 [==============================] - 22s 217ms/step - loss: 0.6804 - acc: 0.5738 - val_loss: 0.6720 - val_acc: 0.5812\n",
      "Epoch 15/50\n",
      "100/100 [==============================] - 22s 217ms/step - loss: 0.6692 - acc: 0.6009 - val_loss: 0.6517 - val_acc: 0.6155\n",
      "Epoch 16/50\n",
      "100/100 [==============================] - 22s 217ms/step - loss: 0.6516 - acc: 0.6325 - val_loss: 0.6290 - val_acc: 0.6224\n",
      "Epoch 17/50\n",
      "100/100 [==============================] - 22s 217ms/step - loss: 0.6409 - acc: 0.6350 - val_loss: 0.5982 - val_acc: 0.6891\n",
      "Epoch 18/50\n",
      "100/100 [==============================] - 22s 217ms/step - loss: 0.6253 - acc: 0.6687 - val_loss: 0.6127 - val_acc: 0.6572\n",
      "Epoch 19/50\n",
      "100/100 [==============================] - 22s 217ms/step - loss: 0.6052 - acc: 0.6694 - val_loss: 0.6327 - val_acc: 0.6459\n",
      "Epoch 20/50\n",
      "100/100 [==============================] - 22s 217ms/step - loss: 0.5935 - acc: 0.6828 - val_loss: 0.5616 - val_acc: 0.6869\n",
      "Epoch 21/50\n",
      "100/100 [==============================] - 22s 217ms/step - loss: 0.5729 - acc: 0.7109 - val_loss: 0.6116 - val_acc: 0.6789\n",
      "Epoch 22/50\n",
      "100/100 [==============================] - 22s 217ms/step - loss: 0.5639 - acc: 0.7159 - val_loss: 0.5865 - val_acc: 0.7094\n",
      "Epoch 23/50\n",
      "100/100 [==============================] - 22s 216ms/step - loss: 0.5783 - acc: 0.6981 - val_loss: 0.5567 - val_acc: 0.6978\n",
      "Epoch 24/50\n",
      "100/100 [==============================] - 22s 218ms/step - loss: 0.5548 - acc: 0.7134 - val_loss: 0.6244 - val_acc: 0.6885\n",
      "Epoch 25/50\n",
      "100/100 [==============================] - 22s 216ms/step - loss: 0.5473 - acc: 0.7162 - val_loss: 0.5694 - val_acc: 0.7017\n",
      "Epoch 26/50\n",
      "100/100 [==============================] - 22s 218ms/step - loss: 0.5291 - acc: 0.7394 - val_loss: 0.5080 - val_acc: 0.7468\n",
      "Epoch 27/50\n",
      "100/100 [==============================] - 22s 217ms/step - loss: 0.5204 - acc: 0.7453 - val_loss: 0.5194 - val_acc: 0.7352\n",
      "Epoch 28/50\n",
      "100/100 [==============================] - 22s 218ms/step - loss: 0.5192 - acc: 0.7416 - val_loss: 0.5162 - val_acc: 0.7538\n",
      "Epoch 29/50\n",
      "100/100 [==============================] - 22s 218ms/step - loss: 0.5248 - acc: 0.7463 - val_loss: 0.5259 - val_acc: 0.7384\n",
      "Epoch 30/50\n",
      "100/100 [==============================] - 22s 216ms/step - loss: 0.5191 - acc: 0.7403 - val_loss: 0.5100 - val_acc: 0.7513\n",
      "Epoch 31/50\n",
      "100/100 [==============================] - 22s 218ms/step - loss: 0.5232 - acc: 0.7459 - val_loss: 0.5070 - val_acc: 0.7519\n",
      "Epoch 32/50\n",
      "100/100 [==============================] - 22s 216ms/step - loss: 0.4981 - acc: 0.7594 - val_loss: 0.5136 - val_acc: 0.7326\n",
      "Epoch 33/50\n",
      "100/100 [==============================] - 22s 218ms/step - loss: 0.4997 - acc: 0.7600 - val_loss: 0.6335 - val_acc: 0.7069\n",
      "Epoch 34/50\n",
      "100/100 [==============================] - 22s 217ms/step - loss: 0.5018 - acc: 0.7619 - val_loss: 0.4961 - val_acc: 0.7597\n",
      "Epoch 35/50\n",
      "100/100 [==============================] - 22s 217ms/step - loss: 0.4775 - acc: 0.7769 - val_loss: 0.5035 - val_acc: 0.7570\n",
      "Epoch 36/50\n",
      "100/100 [==============================] - 22s 217ms/step - loss: 0.4933 - acc: 0.7603 - val_loss: 0.5412 - val_acc: 0.7468\n",
      "Epoch 37/50\n",
      "100/100 [==============================] - 22s 217ms/step - loss: 0.4864 - acc: 0.7669 - val_loss: 0.4820 - val_acc: 0.7728\n",
      "Epoch 38/50\n",
      "100/100 [==============================] - 22s 218ms/step - loss: 0.4766 - acc: 0.7731 - val_loss: 0.4776 - val_acc: 0.7674\n",
      "Epoch 39/50\n",
      "100/100 [==============================] - 22s 217ms/step - loss: 0.4567 - acc: 0.7894 - val_loss: 0.4542 - val_acc: 0.7796\n",
      "Epoch 40/50\n",
      "100/100 [==============================] - 22s 216ms/step - loss: 0.4579 - acc: 0.7816 - val_loss: 0.4868 - val_acc: 0.7563\n",
      "Epoch 41/50\n",
      "100/100 [==============================] - 22s 218ms/step - loss: 0.4570 - acc: 0.7866 - val_loss: 0.4559 - val_acc: 0.7848\n",
      "Epoch 42/50\n",
      "100/100 [==============================] - 22s 217ms/step - loss: 0.4472 - acc: 0.7953 - val_loss: 0.4775 - val_acc: 0.7836\n",
      "Epoch 43/50\n",
      "100/100 [==============================] - 22s 217ms/step - loss: 0.4424 - acc: 0.7909 - val_loss: 0.4928 - val_acc: 0.7841\n",
      "Epoch 44/50\n",
      "100/100 [==============================] - 22s 216ms/step - loss: 0.4370 - acc: 0.7900 - val_loss: 0.4632 - val_acc: 0.7779\n",
      "Epoch 45/50\n",
      "100/100 [==============================] - 22s 218ms/step - loss: 0.4295 - acc: 0.8066 - val_loss: 0.4834 - val_acc: 0.7635\n",
      "Epoch 46/50\n",
      "100/100 [==============================] - 22s 218ms/step - loss: 0.4395 - acc: 0.8012 - val_loss: 0.4321 - val_acc: 0.7970\n",
      "Epoch 47/50\n",
      "100/100 [==============================] - 22s 216ms/step - loss: 0.4368 - acc: 0.8012 - val_loss: 0.4542 - val_acc: 0.7887\n",
      "Epoch 48/50\n",
      "100/100 [==============================] - 22s 217ms/step - loss: 0.4205 - acc: 0.8078 - val_loss: 0.4672 - val_acc: 0.7945\n",
      "Epoch 49/50\n",
      "100/100 [==============================] - 22s 216ms/step - loss: 0.4345 - acc: 0.8047 - val_loss: 0.4733 - val_acc: 0.7747\n",
      "Epoch 50/50\n",
      "100/100 [==============================] - 22s 218ms/step - loss: 0.4040 - acc: 0.8163 - val_loss: 0.4459 - val_acc: 0.7964\n"
     ]
    },
    {
     "data": {
      "image/png": "[encoded data removed]",
      "text/plain": [
       "<Figure size 432x288 with 1 Axes>"
      ]
     },
     "metadata": {},
     "output_type": "display_data"
    },
    {
     "data": {
      "image/png": "[encoded data removed]",
      "text/plain": [
       "<Figure size 432x288 with 1 Axes>"
      ]
     },
     "metadata": {},
     "output_type": "display_data"
    }
   ],
   "source": [
    "## ========== YOUR CODE HERE ========= ##\n",
    "\n",
    "# create the model defined above\n",
    "model_custom2 = Sequential()\n",
    "model_custom2.add(Conv2D(32, (3, 3), activation='relu', padding='same', name='conv_1', \n",
    "                 input_shape=(150, 150, 3)))\n",
    "model_custom2.add(MaxPooling2D((2, 2), name='maxpool_1'))\n",
    "model_custom2.add(Conv2D(64, (3, 3), activation='relu', padding='same', name='conv_2'))\n",
    "model_custom2.add(MaxPooling2D((2, 2), name='maxpool_2'))\n",
    "model_custom2.add(Conv2D(128, (3, 3), activation='relu', padding='same', name='conv_3'))\n",
    "model_custom2.add(MaxPooling2D((2, 2), name='maxpool_3'))\n",
    "model_custom2.add(Conv2D(128, (3, 3), activation='relu', padding='same', name='conv_4'))\n",
    "model_custom2.add(MaxPooling2D((2, 2), name='maxpool_4'))\n",
    "model_custom2.add(Flatten())\n",
    "model_custom2.add(Dropout(0.5))\n",
    "model_custom2.add(Dense(512, activation='relu', name='dense_1'))\n",
    "model_custom2.add(Dense(256, activation='relu', name='dense_2'))\n",
    "model_custom2.add(Dense(1, activation='sigmoid', name='output'))\n",
    "\n",
    "# compile the model\n",
    "model_custom2.compile(optimizer='adam', loss='binary_crossentropy', metrics=['accuracy'])\n",
    "\n",
    "# train model for 50 epochs, with 100 steps per epoch, and 50 validation steps\n",
    "history_custom2 = model_custom2.fit_generator(train_generator, steps_per_epoch=100, epochs=50, \n",
    "                                      validation_data=validation_generator, validation_steps=50, verbose=1)\n",
    "\n",
    "# save the model and its history\n",
    "model_custom2.save('model-custom2.h5')\n",
    "save_history(history_custom2, 'history_custom2.bin')\n",
    "\n",
    "# plot results\n",
    "history_custom2 = load_history('history_custom2.bin')\n",
    "plot_compare(history_custom2)"
   ]
  },
  {
   "cell_type": "markdown",
   "metadata": {},
   "source": [
    "#### Which of the two custom models performed better? What do you think contributed to the better performance? How do you think you could improve the model even more?"
   ]
  },
  {
   "cell_type": "code",
   "execution_count": 17,
   "metadata": {},
   "outputs": [],
   "source": [
    "## ========== YOUR ANSWER HERE ========= ##"
   ]
  },
  {
   "cell_type": "markdown",
   "metadata": {},
   "source": [
    "### Question 3: Explore On Your Own!\n",
    "\n",
    "#### Use your proposed methods in the previous question to try and improve the performance of the model. "
   ]
  },
  {
   "cell_type": "code",
   "execution_count": 19,
   "metadata": {
    "scrolled": false
   },
   "outputs": [],
   "source": [
    "## ========== YOUR CODE HERE ========= ##\n",
    "\n",
    "# Train your own custom model here. "
   ]
  }
 ],
 "metadata": {
  "kernelspec": {
   "display_name": "Python 3",
   "language": "python",
   "name": "python3"
  },
  "language_info": {
   "codemirror_mode": {
    "name": "ipython",
    "version": 3
   },
   "file_extension": ".py",
   "mimetype": "text/x-python",
   "name": "python",
   "nbconvert_exporter": "python",
   "pygments_lexer": "ipython3",
   "version": "3.7.0"
  }
 },
 "nbformat": 4,
 "nbformat_minor": 2
}
