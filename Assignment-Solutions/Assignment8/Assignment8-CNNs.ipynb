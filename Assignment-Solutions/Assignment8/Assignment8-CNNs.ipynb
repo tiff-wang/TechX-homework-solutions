{
 "cells": [
  {
   "cell_type": "markdown",
   "metadata": {
    "collapsed": true
   },
   "source": [
    "# Assignment 8 - Convolutional Neural Networks\n",
    "\n",
    "Congratulations! You have made it to the last assignment of the TechX Machine Learning bootcamp. In the following assignment, you will explore with convolutional neural networks (CNNs) by training a classifier to recognize the difference between images of cats and dogs. The training time of this assignment will take longer than previous ones, so it reccommended to run this on a GPU.\n",
    "\n",
    "Start by download the dataset to your local environment: URL HERE"
   ]
  },
  {
   "cell_type": "markdown",
   "metadata": {},
   "source": [
    "### Import Libraries\n",
    "\n",
    "As usual, let's start by importing the necessary libaries."
   ]
  },
  {
   "cell_type": "code",
   "execution_count": 1,
   "metadata": {},
   "outputs": [
    {
     "name": "stderr",
     "output_type": "stream",
     "text": [
      "/home/john/anaconda3/envs/pokemon/lib/python3.5/site-packages/h5py/__init__.py:36: FutureWarning: Conversion of the second argument of issubdtype from `float` to `np.floating` is deprecated. In future, it will be treated as `np.float64 == np.dtype(float).type`.\n",
      "  from ._conv import register_converters as _register_converters\n",
      "Using TensorFlow backend.\n"
     ]
    }
   ],
   "source": [
    "%matplotlib inline\n",
    "\n",
    "from __future__ import print_function\n",
    "from keras.models import Model, Sequential, load_model\n",
    "from keras.layers import Dense, Input, Conv2D, MaxPooling2D, Flatten, Dropout\n",
    "from keras.datasets import mnist\n",
    "from keras.optimizers import Adam\n",
    "from keras.preprocessing import image\n",
    "from keras.applications import VGG16\n",
    "from keras.preprocessing.image import ImageDataGenerator\n",
    "# from vis.utils import utils\n",
    "from keras import activations\n",
    "\n",
    "import matplotlib.pyplot as plt\n",
    "import pandas as pd\n",
    "import numpy as np\n",
    "import seaborn as sns\n",
    "import warnings\n",
    "import os\n",
    "import pickle"
   ]
  },
  {
   "cell_type": "markdown",
   "metadata": {},
   "source": [
    "### Helper Methods\n",
    "Below are some helper methods that have been created for usage later in the assignment."
   ]
  },
  {
   "cell_type": "code",
   "execution_count": 2,
   "metadata": {},
   "outputs": [],
   "source": [
    "def smooth_curve(points, factor=0.8):\n",
    "    smoothed = []\n",
    "    for point in points:\n",
    "        if smoothed:\n",
    "            previous = smoothed[-1]\n",
    "            smoothed.append(previous * factor + point * (1 - factor))\n",
    "        else:\n",
    "            smoothed.append(point)\n",
    "    return smoothed\n",
    "\n",
    "def plot_compare(history, steps=-1):\n",
    "    if steps < 0:\n",
    "        steps = len(history.history['acc'])\n",
    "    acc = smooth_curve(history.history['acc'][:steps])\n",
    "    val_acc = smooth_curve(history.history['val_acc'][:steps])\n",
    "    loss = smooth_curve(history.history['loss'][:steps])\n",
    "    val_loss = smooth_curve(history.history['val_loss'][:steps])\n",
    "    \n",
    "    plt.figure(figsize=(6, 4))\n",
    "    plt.plot(loss, c='#0c7cba', label='Train Loss')\n",
    "    plt.plot(val_loss, c='#0f9d58', label='Val Loss')\n",
    "    plt.xticks(range(0, len(loss), 5))\n",
    "    plt.xlim(0, len(loss))\n",
    "    plt.title('Train Loss: %.3f, Val Loss: %.3f' % (loss[-1], val_loss[-1]), fontsize=12)\n",
    "    plt.legend()\n",
    "    \n",
    "    plt.figure(figsize=(6, 4))\n",
    "    plt.plot(acc, c='#0c7cba', label='Train Acc')\n",
    "    plt.plot(val_acc, c='#0f9d58', label='Val Acc')\n",
    "    plt.xticks(range(0, len(acc), 5))\n",
    "    plt.xlim(0, len(acc))\n",
    "    plt.title('Train Accuracy: %.3f, Val Accuracy: %.3f' % (acc[-1], val_acc[-1]), fontsize=12)\n",
    "    plt.legend()\n",
    "    \n",
    "def deprocess_image(x):\n",
    "    # normalize tensor: center on 0., ensure std is 0.1\n",
    "    x -= x.mean()\n",
    "    x /= (x.std() + 1e-5)\n",
    "    x *= 0.1\n",
    "\n",
    "    # clip to [0, 1]\n",
    "    x += 0.5\n",
    "    x = np.clip(x, 0, 1)\n",
    "\n",
    "    # convert to RGB array\n",
    "    x *= 255\n",
    "    x = np.clip(x, 0, 255).astype('uint8')\n",
    "    return x\n",
    " \n",
    "def save_history(history, fn):\n",
    "    with open(fn, 'wb') as fw:\n",
    "        pickle.dump(history.history, fw, protocol=2)\n",
    "\n",
    "def load_history(fn):\n",
    "    class Temp():\n",
    "        pass\n",
    "    history = Temp()\n",
    "    with open(fn, 'rb') as fr:\n",
    "        history.history = pickle.load(fr)\n",
    "    return history\n",
    "\n",
    "def jitter(img, amount=32):\n",
    "    ox, oy = np.random.randint(-amount, amount+1, 2)\n",
    "    return np.roll(np.roll(img, ox, -1), oy, -2), ox, oy\n",
    "\n",
    "def reverse_jitter(img, ox, oy):\n",
    "    return np.roll(np.roll(img, -ox, -1), -oy, -2)\n",
    "\n",
    "def plot_image(img):\n",
    "    plt.figure(figsize=(6, 6))\n",
    "    plt.imshow(img)\n",
    "    plt.axis('off')"
   ]
  },
  {
   "cell_type": "markdown",
   "metadata": {},
   "source": [
    "### Question 1: Load Data and Prepare Data\n",
    "\n",
    "When it comes to CNNs, we are usually working with data that takes up a large amount of space which means we will need to load the data in batches. You'll also notice that the dataset only has 1500 images for each class, which is not nearly enough data to train an accurate classifier using a deep neural network approach. As a result, we will need to augment our data as well - perform linear transformations on the existing data in order to create additional new data.\n",
    "\n",
    "Luckily, there is [built in functionality in keras](https://keras.io/preprocessing/image/) to help us load our data in batches while augmenting it in real-time. Let's start by using this library to load and prepare our data."
   ]
  },
  {
   "cell_type": "markdown",
   "metadata": {},
   "source": [
    "#### Start by setting the root path of your dataset:"
   ]
  },
  {
   "cell_type": "code",
   "execution_count": 3,
   "metadata": {},
   "outputs": [],
   "source": [
    "## ========== YOUR CODE HERE ========= ##\n",
    "base_dir = 'dataset'\n",
    "train_dir = os.path.join(base_dir, 'train')\n",
    "validation_dir = os.path.join(base_dir, 'valid')\n",
    "test_dir = os.path.join(base_dir, 'test')"
   ]
  },
  {
   "cell_type": "markdown",
   "metadata": {},
   "source": [
    "#### Create instances of the ImageDataGenerator object for the train and test data with the following parameters:\n",
    "1) Train data:\n",
    "- Rescale: 1./255\n",
    "- Rotation Range: 40\n",
    "- Width Shift Range: 0.2\n",
    "- Height Shift Range: 0.2\n",
    "- Shear Range: 0.2\n",
    "- Zoom Range: 0.2\n",
    "- Horizontal Flip: True\n",
    "\n",
    "2) Test data:\n",
    "- Rescale: 1./255\n",
    "\n",
    "#### Use the online documentation for support."
   ]
  },
  {
   "cell_type": "code",
   "execution_count": 4,
   "metadata": {},
   "outputs": [],
   "source": [
    "## ========== YOUR CODE HERE ========= ##\n",
    "train_datagen = ImageDataGenerator(\n",
    "    rescale=1./255,\n",
    "    rotation_range=40,\n",
    "    width_shift_range=0.2,\n",
    "    height_shift_range=0.2,\n",
    "    shear_range=0.2,\n",
    "    zoom_range=0.2,\n",
    "    horizontal_flip=True,)\n",
    "\n",
    "test_datagen = ImageDataGenerator(rescale=1./255)"
   ]
  },
  {
   "cell_type": "markdown",
   "metadata": {},
   "source": [
    "#### Set the directory, target size (150,150), batch size (32), and class mode (binary) on the data generator instances using the .flow_from_directory method. "
   ]
  },
  {
   "cell_type": "code",
   "execution_count": 5,
   "metadata": {},
   "outputs": [
    {
     "name": "stdout",
     "output_type": "stream",
     "text": [
      "Found 2000 images belonging to 2 classes.\n",
      "Found 1000 images belonging to 2 classes.\n"
     ]
    }
   ],
   "source": [
    "## ========== YOUR CODE HERE ========= ##\n",
    "train_generator = train_datagen.flow_from_directory(\n",
    "        train_dir,\n",
    "        target_size=(150, 150),\n",
    "        batch_size=32,\n",
    "        class_mode='binary')\n",
    "\n",
    "validation_generator = test_datagen.flow_from_directory(\n",
    "        validation_dir,\n",
    "        target_size=(150, 150),\n",
    "        batch_size=32,\n",
    "        class_mode='binary')"
   ]
  },
  {
   "cell_type": "markdown",
   "metadata": {},
   "source": [
    "### Question 2: Build and Train Custom Model\n",
    "Now that our data is ready, it is time to start training our model. This section will first go over an example of how to build a custom CNN architecture and train our data on this model. Then you will be given the outline for another custom architecture which you will have to build and train by yourself. "
   ]
  },
  {
   "cell_type": "markdown",
   "metadata": {},
   "source": [
    "#### For the first custom model, we will create and compile a sequential model with the following architecture\n",
    "- Convolution layer with 32 filters, 3x3 kernel, relu activation, and padding\n",
    "- Max pooling layer with a size of 2x2\n",
    "- Convolution layer with 64 filters, 3x3 kernel, relu activation, and padding\n",
    "- Max pooling layer with a size of 2x2\n",
    "- Flattening layer\n",
    "- Densely connected layer with dimension of 256 and relu activation function\n",
    "- Densely connected output layer with dimension of 1 and sigmoid activation function"
   ]
  },
  {
   "cell_type": "code",
   "execution_count": 6,
   "metadata": {
    "scrolled": false
   },
   "outputs": [],
   "source": [
    "# create the model defined above\n",
    "model_custom1 = Sequential()\n",
    "model_custom1.add(Conv2D(32, (3, 3), activation='relu', padding='same', name='conv_1', \n",
    "                 input_shape=(150, 150, 3)))\n",
    "model_custom1.add(MaxPooling2D((2, 2), name='maxpool_1'))\n",
    "model_custom1.add(Conv2D(64, (3, 3), activation='relu', padding='same', name='conv_2'))\n",
    "model_custom1.add(MaxPooling2D((2, 2), name='maxpool_2'))\n",
    "model_custom1.add(Flatten())\n",
    "model_custom1.add(Dense(256, activation='relu', name='dense_2'))\n",
    "model_custom1.add(Dense(1, activation='sigmoid', name='output'))\n",
    "\n",
    "# compile the model\n",
    "model_custom1.compile(optimizer='adam', loss='binary_crossentropy', metrics=['accuracy'])"
   ]
  },
  {
   "cell_type": "markdown",
   "metadata": {},
   "source": [
    "#### We can print a summary of the architecture as shown below"
   ]
  },
  {
   "cell_type": "code",
   "execution_count": 7,
   "metadata": {
    "scrolled": false
   },
   "outputs": [
    {
     "name": "stdout",
     "output_type": "stream",
     "text": [
      "_________________________________________________________________\n",
      "Layer (type)                 Output Shape              Param #   \n",
      "=================================================================\n",
      "conv_1 (Conv2D)              (None, 150, 150, 32)      896       \n",
      "_________________________________________________________________\n",
      "maxpool_1 (MaxPooling2D)     (None, 75, 75, 32)        0         \n",
      "_________________________________________________________________\n",
      "conv_2 (Conv2D)              (None, 75, 75, 64)        18496     \n",
      "_________________________________________________________________\n",
      "maxpool_2 (MaxPooling2D)     (None, 37, 37, 64)        0         \n",
      "_________________________________________________________________\n",
      "flatten_1 (Flatten)          (None, 87616)             0         \n",
      "_________________________________________________________________\n",
      "dense_2 (Dense)              (None, 256)               22429952  \n",
      "_________________________________________________________________\n",
      "output (Dense)               (None, 1)                 257       \n",
      "=================================================================\n",
      "Total params: 22,449,601\n",
      "Trainable params: 22,449,601\n",
      "Non-trainable params: 0\n",
      "_________________________________________________________________\n"
     ]
    }
   ],
   "source": [
    "model_custom1.summary()"
   ]
  },
  {
   "cell_type": "markdown",
   "metadata": {},
   "source": [
    "#### We can now train and save the model."
   ]
  },
  {
   "cell_type": "code",
   "execution_count": null,
   "metadata": {},
   "outputs": [
    {
     "name": "stdout",
     "output_type": "stream",
     "text": [
      "Epoch 1/20\n",
      " 61/100 [=================>............] - ETA: 2:01 - loss: 7.9383 - acc: 0.5015"
     ]
    }
   ],
   "source": [
    "# train model for 20 epochs, with 100 steps per epoch, and 50 validation steps\n",
    "history_custom1 = model_custom1.fit_generator(train_generator, steps_per_epoch=100, epochs=20, \n",
    "                                      validation_data=validation_generator, validation_steps=50, verbose=1)\n",
    "\n",
    "# save the model and its history\n",
    "model_custom1.save('model-custom1.h5')\n",
    "save_history(history_custom1, 'history_custom1.bin')"
   ]
  },
  {
   "cell_type": "code",
   "execution_count": 19,
   "metadata": {},
   "outputs": [
    {
     "data": {
      "image/png": "[encoded data removed]",
      "text/plain": [
       "<Figure size 432x288 with 1 Axes>"
      ]
     },
     "metadata": {},
     "output_type": "display_data"
    },
    {
     "data": {
      "image/png": "[encoded data removed]",
      "text/plain": [
       "<Figure size 432x288 with 1 Axes>"
      ]
     },
     "metadata": {},
     "output_type": "display_data"
    }
   ],
   "source": [
    "# plot results\n",
    "history_custom1 = load_history('history_custom1.bin')\n",
    "plot_compare(history_custom1)"
   ]
  },
  {
   "cell_type": "markdown",
   "metadata": {},
   "source": [
    "#### Now build a new custom model with the following architecture, by following the same method as above and plotting the results:\n",
    "- Convolution layer with 32 filters, 3x3 kernel, relu activation, and padding\n",
    "- Max pooling layer with a size of 2x2\n",
    "- Convolution layer with 64 filters, 3x3 kernel, relu activation, and padding\n",
    "- Max pooling layer with a size of 2x2\n",
    "- Convolution layer with 128 filters, 3x3 kernel, relu activation, and padding\n",
    "- Max pooling layer with a size of 2x2\n",
    "- Convolution layer with 128 filters, 3x3 kernel, relu activation, and padding\n",
    "- Max pooling layer with a size of 2x2\n",
    "- Flattening layer\n",
    "- Dropout layer with 0.5 dropout rate\n",
    "- Densely connected layer with dimension of 512 and relu activation function\n",
    "- Densely connected layer with dimension of 256 and relu activation function\n",
    "- Densely connected output layer with dimension of 1 and sigmoid activation function"
   ]
  },
  {
   "cell_type": "code",
   "execution_count": null,
   "metadata": {
    "collapsed": true
   },
   "outputs": [],
   "source": [
    "## ========== YOUR CODE HERE ========= ##\n",
    "\n",
    "# create the model defined above\n",
    "model_custom2 = Sequential()\n",
    "model_custom2.add(Conv2D(32, (3, 3), activation='relu', padding='same', name='conv_1', \n",
    "                 input_shape=(150, 150, 3)))\n",
    "model_custom2.add(MaxPooling2D((2, 2), name='maxpool_1'))\n",
    "model_custom2.add(Conv2D(64, (3, 3), activation='relu', padding='same', name='conv_2'))\n",
    "model_custom2.add(MaxPooling2D((2, 2), name='maxpool_2'))\n",
    "model_custom2.add(Conv2D(128, (3, 3), activation='relu', padding='same', name='conv_3'))\n",
    "model_custom2.add(MaxPooling2D((2, 2), name='maxpool_3'))\n",
    "model_custom2.add(Conv2D(128, (3, 3), activation='relu', padding='same', name='conv_4'))\n",
    "model_custom2.add(MaxPooling2D((2, 2), name='maxpool_4'))\n",
    "model_custom2.add(Flatten())\n",
    "model_custom2.add(Dropout(0.5))\n",
    "model_custom2.add(Dense(512, activation='relu', name='dense_1'))\n",
    "model_custom2.add(Dense(256, activation='relu', name='dense_2'))\n",
    "model_custom2.add(Dense(1, activation='sigmoid', name='output'))\n",
    "\n",
    "# compile the modelb\n",
    "model_custom2.compile(optimizer='adam', loss='binary_crossentropy', metrics=['accuracy'])\n",
    "\n",
    "# train model for 20 epochs , with 100 steps per epoch, and 50 validation steps\n",
    "history_custom2 = model_custom2.fit_generator(train_generator, steps_per_epoch=100, epochs=3, \n",
    "                                      validation_data=validation_generator, validation_steps=50, verbose=1)\n",
    "\n",
    "# save the model and its history\n",
    "model_custom2.save('model-custom2.h5')\n",
    "save_history(history_custom2, 'history_custom2.bin')\n",
    "\n",
    "# plot results\n",
    "history_custom2 = load_history('history_custom.bin')\n",
    "plot_compare(history_custom2)"
   ]
  },
  {
   "cell_type": "markdown",
   "metadata": {},
   "source": [
    "#### Which of the two custom models performed better? What do you think contributed to the better performance?"
   ]
  },
  {
   "cell_type": "code",
   "execution_count": 10,
   "metadata": {
    "collapsed": true
   },
   "outputs": [],
   "source": [
    "## ========== YOUR ANSWER HERE ========= ##"
   ]
  },
  {
   "cell_type": "markdown",
   "metadata": {},
   "source": [
    "### Question 3: Build and Train VGG Model\n",
    "\n",
    "#### Now instead of building our own custom model, let's use a state of the art CNN model (VGG16) and see how the performance compares."
   ]
  },
  {
   "cell_type": "markdown",
   "metadata": {},
   "source": [
    "### Question 4: Visualize Feature Maps"
   ]
  },
  {
   "cell_type": "markdown",
   "metadata": {},
   "source": [
    "### Question 5: Visualize Dense Layer"
   ]
  },
  {
   "cell_type": "markdown",
   "metadata": {},
   "source": [
    "### Question 6: Visualize Convolutional Filters"
   ]
  }
 ],
 "metadata": {
  "kernelspec": {
   "display_name": "Python 3",
   "language": "python",
   "name": "python3"
  },
  "language_info": {
   "codemirror_mode": {
    "name": "ipython",
    "version": 3
   },
   "file_extension": ".py",
   "mimetype": "text/x-python",
   "name": "python",
   "nbconvert_exporter": "python",
   "pygments_lexer": "ipython3",
   "version": "3.5.5"
  }
 },
 "nbformat": 4,
 "nbformat_minor": 2
}
